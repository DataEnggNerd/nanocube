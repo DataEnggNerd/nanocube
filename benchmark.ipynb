{
 "cells": [
  {
   "metadata": {},
   "cell_type": "markdown",
   "source": [
    "### NanoCube Benchmark - Pandas DataFrame vs. Cube on OLAP-style point queries\n",
    "This benchmark compares the execution time of Pandas vs. NanoCube for a single semi-complex point query.\n",
    "Use your own DataFrames and see what performance improvements you will gain.  "
   ],
   "id": "4df5134c5e4d26da"
  },
  {
   "metadata": {
    "ExecuteTime": {
     "end_time": "2024-10-04T20:59:07.867777Z",
     "start_time": "2024-10-04T20:59:07.107256Z"
    }
   },
   "cell_type": "code",
   "source": [
    "import random\n",
    "import timeit\n",
    "import string\n",
    "from datetime import datetime\n",
    "import pandas as pd\n",
    "from nanocube import Cube\n",
    "\n",
    "rows = 1_000_000\n",
    "loops = 100\n",
    "\n",
    "# Create a larger dataframe with 1M records\n",
    "print(f\"Creating Dataframe with {rows:,} rows and 5 columns \", end=\"\")\n",
    "start = datetime.now()\n",
    "customers = string.ascii_uppercase\n",
    "df = pd.DataFrame({'customer': random.choices(customers, weights=range(len(customers), 0, -1), k=rows),  # 'A', 'B', 'C', ...\n",
    "                   'product':  random.choices([f'P{i}' for i in range(100)], weights=range(100, 0, -1), k=rows),  # 'P1', 'P2', 'P3', ...\n",
    "                   'promo':    random.choices([True, False], k=rows),\n",
    "                   'sales':    [int(random.random()*100) for _ in range(rows)],\n",
    "                   'cost':     [int(random.random()*100) for _ in range(rows)]})\n",
    "print(f\"in {(datetime.now() - start).total_seconds():.5f} sec.\")\n",
    "print (df.head())"
   ],
   "id": "a4f8d1fe1cf56dc3",
   "outputs": [
    {
     "name": "stdout",
     "output_type": "stream",
     "text": [
      "Creating Dataframe with 1,000,000 rows and 5 columns in 0.75192 sec.\n",
      "  customer product  promo  sales  cost\n",
      "0        C     P27  False      5    38\n",
      "1        H     P66   True     42    10\n",
      "2        F     P26   True     52    54\n",
      "3        N     P47   True     98    25\n",
      "4        H     P71   True     63     3\n"
     ]
    }
   ],
   "execution_count": 5
  },
  {
   "metadata": {
    "ExecuteTime": {
     "end_time": "2024-10-04T20:59:08.776871Z",
     "start_time": "2024-10-04T20:59:07.874732Z"
    }
   },
   "cell_type": "code",
   "source": [
    "# Create a cube\n",
    "print(f\"\\nCreating and preparing Cube from Dataframe \", end=\"\")\n",
    "start = datetime.now()\n",
    "cube = Cube(df)\n",
    "print(f\"in {(datetime.now() - start).total_seconds():.5f} sec.\")\n"
   ],
   "id": "3dd9307df4940b94",
   "outputs": [
    {
     "name": "stdout",
     "output_type": "stream",
     "text": [
      "\n",
      "Creating and preparing Cube from Dataframe in 0.90003 sec.\n"
     ]
    }
   ],
   "execution_count": 6
  },
  {
   "metadata": {
    "ExecuteTime": {
     "end_time": "2024-10-04T20:59:14.353528Z",
     "start_time": "2024-10-04T20:59:08.785949Z"
    }
   },
   "cell_type": "code",
   "source": [
    "# OLAP query using Pandas dataframe\n",
    "q1 = 'df[(df[\"customer\"] == \"A\") & (df[\"product\"] == \"P1\")][[\"sales\", \"cost\"]].sum()'\n",
    "print(f\"\\nRunning OLAP-Queries with Pandas. Please wait...\")\n",
    "print(f\"\\tQuery 1: {q1}\")\n",
    "print(f\"\\tResult: {dict(df[(df['customer'] == 'A') & (df['product'] == 'P1')][['sales', 'cost']].sum().items())}\")\n",
    "q1_pd = timeit.timeit(q1, globals=globals(), number=loops)\n",
    "print(f\"\\t{loops}x queries executed in {q1_pd:.5f} sec, avg. {q1_pd/loops:.5f} sec/query\")"
   ],
   "id": "5686f39734460331",
   "outputs": [
    {
     "name": "stdout",
     "output_type": "stream",
     "text": [
      "\n",
      "Running OLAP-Queries with Pandas. Please wait...\n",
      "\tQuery 1: df[(df[\"customer\"] == \"A\") & (df[\"product\"] == \"P1\")][[\"sales\", \"cost\"]].sum()\n",
      "\tResult: {'sales': 73996, 'cost': 73007}\n",
      "\t100x queries executed in 5.50388 sec, avg. 0.05504 sec/query\n"
     ]
    }
   ],
   "execution_count": 7
  },
  {
   "metadata": {
    "ExecuteTime": {
     "end_time": "2024-10-04T20:59:14.379060Z",
     "start_time": "2024-10-04T20:59:14.359746Z"
    }
   },
   "cell_type": "code",
   "source": [
    "\n",
    "# OLAP query using Cube\n",
    "q1 = 'cube.get(customer=\"A\", product=\"P1\")'\n",
    "print(f\"\\nRunning OLAP-Queries with Cube. Don't wait...\")\n",
    "print(f\"\\tQuery 1: {q1}\")\n",
    "print(f\"\\tResult: {cube.get(customer='A', product='P1')}\")\n",
    "q1_cube = timeit.timeit(q1, globals=globals(), number=loops)\n",
    "print(f\"\\t{loops}x queries executed in {q1_cube:.5f} sec, avg. {q1_cube/loops:.5f} sec/query\")\n",
    "\n",
    "print(f\"\\nBelieve it or not: Cube is {q1_pd/q1_cube:.0f}x times faster than Pandas DataFrame for OLAP queries.\")"
   ],
   "id": "2530b0190d9581a",
   "outputs": [
    {
     "name": "stdout",
     "output_type": "stream",
     "text": [
      "\n",
      "Running OLAP-Queries with Cube. Don't wait...\n",
      "\tQuery 1: cube.get(customer=\"A\", product=\"P1\")\n",
      "\tResult: {'sales': 73996, 'cost': 73007}\n",
      "\t100x queries executed in 0.01581 sec, avg. 0.00016 sec/query\n",
      "\n",
      "Believe it or not: Cube is 348x times faster than Pandas DataFrame for OLAP queries.\n"
     ]
    }
   ],
   "execution_count": 8
  }
 ],
 "metadata": {
  "kernelspec": {
   "display_name": "Python 3",
   "language": "python",
   "name": "python3"
  },
  "language_info": {
   "codemirror_mode": {
    "name": "ipython",
    "version": 2
   },
   "file_extension": ".py",
   "mimetype": "text/x-python",
   "name": "python",
   "nbconvert_exporter": "python",
   "pygments_lexer": "ipython2",
   "version": "2.7.6"
  }
 },
 "nbformat": 4,
 "nbformat_minor": 5
}
