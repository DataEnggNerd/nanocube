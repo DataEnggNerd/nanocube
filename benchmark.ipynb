{
 "cells": [
  {
   "metadata": {},
   "cell_type": "markdown",
   "source": [
    "### NanoCube Benchmark - Pandas DataFrame vs. Cube on OLAP-style point queries\n",
    "This benchmark compares the execution time of Pandas vs. NanoCube for a single semi-complex point query.\n",
    "Use your own DataFrames and see what performance improvements you will gain.  "
   ],
   "id": "4df5134c5e4d26da"
  },
  {
   "metadata": {
    "ExecuteTime": {
     "end_time": "2024-10-04T19:01:20.518850Z",
     "start_time": "2024-10-04T19:01:19.683888Z"
    }
   },
   "cell_type": "code",
   "source": [
    "import random\n",
    "import timeit\n",
    "import string\n",
    "from datetime import datetime\n",
    "import pandas as pd\n",
    "from nanocube import Cube\n",
    "\n",
    "rows = 1_000_000\n",
    "loops = 100\n",
    "\n",
    "# Create a larger dataframe with 1M records\n",
    "print(f\"Creating Dataframe with {rows:,} rows and 5 columns \", end=\"\")\n",
    "start = datetime.now()\n",
    "customers = string.ascii_uppercase\n",
    "df = pd.DataFrame({'customer': random.choices(customers, weights=range(len(customers), 0, -1), k=rows),  # 'A', 'B', 'C', ...\n",
    "                   'product':  random.choices([f'P{i}' for i in range(100)], weights=range(100, 0, -1), k=rows),  # 'P1', 'P2', 'P3', ...\n",
    "                   'promo':    random.choices([True, False], k=rows),\n",
    "                   'sales':    [int(random.random()*100) for _ in range(rows)],\n",
    "                   'cost':     [int(random.random()*100) for _ in range(rows)]})\n",
    "print(f\"in {(datetime.now() - start).total_seconds():.5f} sec.\")\n",
    "print (df.head())"
   ],
   "id": "a4f8d1fe1cf56dc3",
   "outputs": [
    {
     "name": "stdout",
     "output_type": "stream",
     "text": [
      "Creating Dataframe with 1,000,000 rows and 5 columns in 0.82991 sec.\n",
      "  customer product  promo  sales  cost\n",
      "0        K     P12   True     45    97\n",
      "1        A     P21   True     63    45\n",
      "2        M     P52   True     46     6\n",
      "3        Q     P53  False     22    13\n",
      "4        O     P37   True     44    59\n"
     ]
    }
   ],
   "execution_count": 9
  },
  {
   "metadata": {
    "ExecuteTime": {
     "end_time": "2024-10-04T19:01:21.434030Z",
     "start_time": "2024-10-04T19:01:20.523711Z"
    }
   },
   "cell_type": "code",
   "source": [
    "# Create a cube\n",
    "print(f\"\\nCreating and preparing Cube from Dataframe \", end=\"\")\n",
    "start = datetime.now()\n",
    "cube = Cube(df)\n",
    "print(f\"in {(datetime.now() - start).total_seconds():.5f} sec.\")\n"
   ],
   "id": "3dd9307df4940b94",
   "outputs": [
    {
     "name": "stdout",
     "output_type": "stream",
     "text": [
      "\n",
      "Creating and preparing Cube from Dataframe in 0.90824 sec.\n"
     ]
    }
   ],
   "execution_count": 10
  },
  {
   "metadata": {
    "ExecuteTime": {
     "end_time": "2024-10-04T19:01:27.058764Z",
     "start_time": "2024-10-04T19:01:21.440020Z"
    }
   },
   "cell_type": "code",
   "source": [
    "# OLAP query using Pandas dataframe\n",
    "q1 = 'df[(df[\"customer\"] == \"A\") & (df[\"product\"] == \"P1\")][[\"sales\", \"cost\"]].sum()'\n",
    "print(f\"\\nRunning OLAP-Queries with Pandas. Please wait...\")\n",
    "print(f\"\\tQuery 1: {q1}\")\n",
    "print(f\"\\tResult: {dict(df[(df['customer'] == 'A') & (df['product'] == 'P1')][['sales', 'cost']].sum().items())}\")\n",
    "q1_pd = timeit.timeit(q1, globals=globals(), number=loops)\n",
    "print(f\"\\t{loops}x queries executed in {q1_pd:.5f} sec, avg. {q1_pd/loops:.5f} sec/query\")"
   ],
   "id": "5686f39734460331",
   "outputs": [
    {
     "name": "stdout",
     "output_type": "stream",
     "text": [
      "\n",
      "Running OLAP-Queries with Pandas. Please wait...\n",
      "\tQuery 1: df[(df[\"customer\"] == \"A\") & (df[\"product\"] == \"P1\")][[\"sales\", \"cost\"]].sum()\n",
      "\tResult: {'sales': 76596, 'cost': 76467}\n",
      "\t100x queries executed in 5.55870 sec, avg. 0.05559 sec/query\n"
     ]
    }
   ],
   "execution_count": 11
  },
  {
   "metadata": {
    "ExecuteTime": {
     "end_time": "2024-10-04T19:01:27.081758Z",
     "start_time": "2024-10-04T19:01:27.063965Z"
    }
   },
   "cell_type": "code",
   "source": [
    "\n",
    "# OLAP query using Cube\n",
    "q1 = 'cube.get(customer=\"A\", product=\"P1\")'\n",
    "print(f\"\\nRunning OLAP-Queries with Cube. Don't wait...\")\n",
    "print(f\"\\tQuery 1: {q1}\")\n",
    "print(f\"\\tResult: {cube.get(customer='A', product='P1')}\")\n",
    "q1_cube = timeit.timeit(q1, globals=globals(), number=loops)\n",
    "print(f\"\\t{loops}x queries executed in {q1_cube:.5f} sec, avg. {q1_cube/loops:.5f} sec/query\")\n",
    "\n",
    "print(f\"\\nBelieve it or not: Cube is {q1_pd/q1_cube:.0f}x times faster than Pandas DataFrame for OLAP queries.\")"
   ],
   "id": "2530b0190d9581a",
   "outputs": [
    {
     "name": "stdout",
     "output_type": "stream",
     "text": [
      "\n",
      "Running OLAP-Queries with Cube. Don't wait...\n",
      "\tQuery 1: cube.get(customer=\"A\", product=\"P1\")\n",
      "\tResult: {'sales': 76596, 'cost': 76467}\n",
      "\t100x queries executed in 0.01477 sec, avg. 0.00015 sec/query\n",
      "\n",
      "Believe it or not: Cube is 376x times faster than Pandas DataFrame for OLAP queries.\n"
     ]
    }
   ],
   "execution_count": 12
  }
 ],
 "metadata": {
  "kernelspec": {
   "display_name": "Python 3",
   "language": "python",
   "name": "python3"
  },
  "language_info": {
   "codemirror_mode": {
    "name": "ipython",
    "version": 2
   },
   "file_extension": ".py",
   "mimetype": "text/x-python",
   "name": "python",
   "nbconvert_exporter": "python",
   "pygments_lexer": "ipython2",
   "version": "2.7.6"
  }
 },
 "nbformat": 4,
 "nbformat_minor": 5
}
