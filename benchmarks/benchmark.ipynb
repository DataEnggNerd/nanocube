{
 "cells": [
  {
   "metadata": {},
   "cell_type": "markdown",
   "source": [
    "### NanoCube Benchmark \n",
    "#### Pandas DataFrame vs. NanoCube for OLAP-style point queries\n",
    "This benchmark compares the execution times of Pandas vs NanoCube for multiple different types of point queries\n",
    "on a randomly generated dataframe. Depending on argument `max_rows` the benchmark will generate and benchmark dataframes\n",
    "of different sizes, starting at 100 rows and doubling the size per iteration until reaching the specified number of rows."
   ],
   "id": "4df5134c5e4d26da"
  },
  {
   "metadata": {
    "jupyter": {
     "is_executing": true
    }
   },
   "cell_type": "code",
   "source": [
    "from benchmark import Benchmark\n",
    "\n",
    "Benchmark(max_rows=14_000_000).run()"
   ],
   "id": "c1b2693165ddc09a",
   "outputs": [],
   "execution_count": null
  },
  {
   "metadata": {},
   "cell_type": "code",
   "outputs": [],
   "execution_count": null,
   "source": "",
   "id": "6a590847223d5106"
  }
 ],
 "metadata": {
  "kernelspec": {
   "display_name": "Python 3",
   "language": "python",
   "name": "python3"
  },
  "language_info": {
   "codemirror_mode": {
    "name": "ipython",
    "version": 2
   },
   "file_extension": ".py",
   "mimetype": "text/x-python",
   "name": "python",
   "nbconvert_exporter": "python",
   "pygments_lexer": "ipython2",
   "version": "2.7.6"
  }
 },
 "nbformat": 4,
 "nbformat_minor": 5
}
